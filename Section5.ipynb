{
  "nbformat": 4,
  "nbformat_minor": 0,
  "metadata": {
    "colab": {
      "name": "Section5.ipynb",
      "provenance": [],
      "collapsed_sections": [],
      "authorship_tag": "ABX9TyPDU7i9e5SABN+ksCpD+Gkk",
      "include_colab_link": true
    },
    "kernelspec": {
      "name": "python3",
      "display_name": "Python 3"
    },
    "language_info": {
      "name": "python"
    }
  },
  "cells": [
    {
      "cell_type": "markdown",
      "metadata": {
        "id": "view-in-github",
        "colab_type": "text"
      },
      "source": [
        "<a href=\"https://colab.research.google.com/github/grcd/BCR_LCP_GSA/blob/master/Section5.ipynb\" target=\"_parent\"><img src=\"https://colab.research.google.com/assets/colab-badge.svg\" alt=\"Open In Colab\"/></a>"
      ]
    },
    {
      "cell_type": "markdown",
      "source": [
        "## Section 5"
      ],
      "metadata": {
        "id": "tgZQ7Dn_0gGD"
      }
    },
    {
      "cell_type": "code",
      "source": [
        "# Exercise 1\n",
        "import unittest\n",
        "\n",
        "class TestSplitMethod(unittest.TestCase):\n",
        "    def test_split_by_default(self):\n",
        "        self.assertEqual(\n",
        "            'Python Testing'.split(), \n",
        "            ['Python', 'Testing']\n",
        "        )\n",
        "    \n",
        "    def test_split_by_comma(self):\n",
        "        self.assertEqual(\n",
        "            'open,high,low,close'.split(','),\n",
        "            ['open', 'high', 'low', 'close']\n",
        "        )\n",
        "    \n",
        "    def test_split_by_hash(self):\n",
        "        self.assertEqual(\n",
        "            'summer#time#vibes'.split('#'),\n",
        "            ['summer', 'time', 'vibes']\n",
        "        )\n",
        "\n",
        "if __name__ == '__main__':\n",
        "    unittest.main()"
      ],
      "metadata": {
        "id": "Brfp85i0992O"
      },
      "execution_count": null,
      "outputs": []
    },
    {
      "cell_type": "code",
      "source": [
        "# Exercise 2\n",
        "import unittest\n",
        "\n",
        "class TestJoinMethod(unittest.TestCase):\n",
        "  \"\"\"Test the join method.\"\"\"\n",
        "\n",
        "  def test_join_with_space(self):\n",
        "    self.assertEqual(\n",
        "        ' '.join(['Python', '3.8']),\n",
        "        'Python 3.8'\n",
        "    )\n",
        "\n",
        "  def test_join_with_comma(self):\n",
        "    self.assertEqual(\n",
        "        ','.join(['open', 'high', 'low', 'close']),\n",
        "        'open,high,low,close'\n",
        "    )\n",
        "\n",
        "  def test_join_with_new_line_char(self):\n",
        "    self.assertEqual(\n",
        "        '\\n'.join(['open', 'high', 'low', 'close']),\n",
        "        'open\\nhigh\\nlow\\nclose'\n",
        "    )"
      ],
      "metadata": {
        "id": "fHVBjPi3ANCC"
      },
      "execution_count": null,
      "outputs": []
    },
    {
      "cell_type": "code",
      "source": [
        "# Exercise 5\n",
        "import unittest\n",
        "\n",
        "class TestUpper(unittest.TestCase):\n",
        "  def test_upper(self):\n",
        "    \"\"\"Test whether 'summer'.upper() returns 'SUMMER'.\"\"\"\n",
        "\n",
        "    actual = 'summer'.upper()\n",
        "    expected = 'SUMMER'\n",
        "    self.assertEqual(actual, expected)\n",
        "\n",
        "  def test_is_upper(self):\n",
        "    \"\"\"\n",
        "      Test wheter 'SUMMER'.isupper() returns True and\n",
        "      'summer'.isupper() returns False.\n",
        "    \"\"\"\n",
        "    \n",
        "    self.assertTrue('SUMMER'.isupper())\n",
        "    self.assertFalse('summer'.isupper())\n",
        "  "
      ],
      "metadata": {
        "id": "yJMHWybVCvdA"
      },
      "execution_count": null,
      "outputs": []
    },
    {
      "cell_type": "code",
      "source": [
        "# Exercise 6\n",
        "import unittest\n",
        "\n",
        "class TestLower(unittest.TestCase):\n",
        "  \"\"\"Tests for the .lower() and .islower() string methods.\"\"\"\n",
        "\n",
        "  def test_lower(self):\n",
        "    \"\"\"Test whether .lower() lowerizes a string.\"\"\"\n",
        "\n",
        "    actual = 'Joe.Smith@mail.com'.lower()\n",
        "    expected = 'joe.smith@mail.com'\n",
        "    self.assertEqual(actual, expected)\n",
        "\n",
        "  def test_is_lower(self):\n",
        "    \"\"\"Test whether .islower() returns the correct boolean value.\"\"\"\n",
        "\n",
        "    self.assertTrue('joe.smith@mail.com'.islower())\n",
        "    self.assertFalse('Joe.Smith@mail.com'.islower())\n"
      ],
      "metadata": {
        "id": "ElTxQCpJDz6a"
      },
      "execution_count": null,
      "outputs": []
    },
    {
      "cell_type": "code",
      "source": [
        "# Exercise 7\n",
        "import unittest\n",
        "\n",
        "class TestStartswithMethod(unittest.TestCase):\n",
        "  \"\"\"Tests for the .startswith string method.\"\"\"\n",
        "\n",
        "  def test_startswith_one_letter(self):\n",
        "    self.assertTrue('unittest'.startswith('u'))\n",
        "    self.assertFalse('unittest'.startswith('U'))\n",
        "\n",
        "  def test_startswith_four_letters(self):\n",
        "    self.assertTrue('http://www.e-smartdata.org/'.startswith('http'))\n",
        "    self.assertFalse('www.e-smartdata.org/'.startswith('http'))\n",
        "\n",
        "class TestEndswithMethod(unittest.TestCase):\n",
        "  \"\"\"Tests for the .endswith string method.\"\"\"\n",
        "  \n",
        "  def test_endswith_three_letters(self):\n",
        "    self.assertTrue('e-smartdata.org'.endswith('org'))\n",
        "    self.assertFalse('e-smartdata.org'.endswith('com'))\n",
        "  "
      ],
      "metadata": {
        "id": "HR26xcbVFOUQ"
      },
      "execution_count": null,
      "outputs": []
    }
  ]
}