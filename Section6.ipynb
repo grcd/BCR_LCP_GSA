{
  "nbformat": 4,
  "nbformat_minor": 0,
  "metadata": {
    "colab": {
      "name": "Section6.ipynb",
      "provenance": [],
      "collapsed_sections": [],
      "authorship_tag": "ABX9TyMhesz2nqU6wwY+pwVc8xjW",
      "include_colab_link": true
    },
    "kernelspec": {
      "name": "python3",
      "display_name": "Python 3"
    },
    "language_info": {
      "name": "python"
    }
  },
  "cells": [
    {
      "cell_type": "markdown",
      "metadata": {
        "id": "view-in-github",
        "colab_type": "text"
      },
      "source": [
        "<a href=\"https://colab.research.google.com/github/grcd/BCR_LCP_GSA/blob/master/Section6.ipynb\" target=\"_parent\"><img src=\"https://colab.research.google.com/assets/colab-badge.svg\" alt=\"Open In Colab\"/></a>"
      ]
    },
    {
      "cell_type": "markdown",
      "source": [
        "## Section 6 Reminder: \\*args and \\*\\*kwargs"
      ],
      "metadata": {
        "id": "xfz4-vgf2Amf"
      }
    },
    {
      "cell_type": "code",
      "execution_count": 1,
      "metadata": {
        "colab": {
          "base_uri": "https://localhost:8080/"
        },
        "id": "kWj2-AkG1-vd",
        "outputId": "3fc4af41-135c-425a-940f-49eba2bcdd23"
      },
      "outputs": [
        {
          "output_type": "stream",
          "name": "stdout",
          "text": [
            "sport#summer\n",
            "\n",
            "time#workout#gym\n"
          ]
        }
      ],
      "source": [
        "# Exercise 1\n",
        "\n",
        "def stick(*args):\n",
        "  \"\"\"\n",
        "  Return a string which is a concatenation of all 'str' arguments\n",
        "  using # as separator character.\n",
        "  \"\"\"\n",
        "\n",
        "  elements = []\n",
        "  for arg in args:\n",
        "    if isinstance(arg, str):\n",
        "      elements.append(arg)\n",
        "  \n",
        "  return '#'.join(elements)\n",
        "\n",
        "print(stick('sport', 'summer'))\n",
        "print(stick(3, 5, 7))\n",
        "print(stick(False, 'time', True, 'workout', [], 'gym'))"
      ]
    },
    {
      "cell_type": "code",
      "source": [
        "# Exercise 1 (list comprehension)\n",
        "\n",
        "def stick(*args):\n",
        "  \"\"\"\n",
        "  Return a string which is a concatenation of all 'str' arguments\n",
        "  using # as separator character.\n",
        "  \"\"\"\n",
        "\n",
        "  args = [arg for arg in args if isinstance(arg, str)]\n",
        "  result = '#'.join(args)\n",
        "  return result\n",
        "\n",
        "print(stick('sport', 'summer'))\n",
        "print(stick(3, 5, 7))\n",
        "print(stick(False, 'time', True, 'workout', [], 'gym'))"
      ],
      "metadata": {
        "colab": {
          "base_uri": "https://localhost:8080/"
        },
        "id": "7JyGaewi26fY",
        "outputId": "74486ed2-afb3-48dc-f785-f6a21ccf3c6c"
      },
      "execution_count": 3,
      "outputs": [
        {
          "output_type": "stream",
          "name": "stdout",
          "text": [
            "sport#summer\n",
            "\n",
            "time#workout#gym\n"
          ]
        }
      ]
    },
    {
      "cell_type": "code",
      "source": [
        "# Exercise 2\n",
        "\n",
        "def display_info(company, **kwargs):\n",
        "  print(f\"Company name: {company}\")\n",
        "  if 'price' in kwargs:\n",
        "    print(f\"Price: $ {kwargs['price']}\")\n",
        "\n",
        "display_info(company='CD Projekt', price=100)"
      ],
      "metadata": {
        "colab": {
          "base_uri": "https://localhost:8080/"
        },
        "id": "wg4nGxXi3b5m",
        "outputId": "354f7b34-7901-4ffa-83bb-579c5f7c05e3"
      },
      "execution_count": 5,
      "outputs": [
        {
          "output_type": "stream",
          "name": "stdout",
          "text": [
            "Company name: CD Projekt\n",
            "Price: $ 100\n"
          ]
        }
      ]
    }
  ]
}