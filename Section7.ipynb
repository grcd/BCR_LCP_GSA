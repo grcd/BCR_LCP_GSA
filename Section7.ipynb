{
  "nbformat": 4,
  "nbformat_minor": 0,
  "metadata": {
    "colab": {
      "name": "Section7.ipynb",
      "provenance": [],
      "collapsed_sections": [],
      "authorship_tag": "ABX9TyM9BxolQDNP4d3QVcKpyXbI",
      "include_colab_link": true
    },
    "kernelspec": {
      "name": "python3",
      "display_name": "Python 3"
    },
    "language_info": {
      "name": "python"
    }
  },
  "cells": [
    {
      "cell_type": "markdown",
      "metadata": {
        "id": "view-in-github",
        "colab_type": "text"
      },
      "source": [
        "<a href=\"https://colab.research.google.com/github/grcd/BCR_LCP_GSA/blob/master/Section7.ipynb\" target=\"_parent\"><img src=\"https://colab.research.google.com/assets/colab-badge.svg\" alt=\"Open In Colab\"/></a>"
      ]
    },
    {
      "cell_type": "markdown",
      "source": [
        "## Section 7: Classes - the basics"
      ],
      "metadata": {
        "id": "z7s38mG24tfz"
      }
    },
    {
      "cell_type": "code",
      "execution_count": null,
      "metadata": {
        "id": "WIJMs6Zh4rpJ"
      },
      "outputs": [],
      "source": [
        "# Exercise 1\n",
        "\n",
        "class Vehicle:\n",
        "  \"\"\"A class to model vehicles.\"\"\"\n",
        "\n",
        "  def __init__(self):\n",
        "    pass\n",
        "  "
      ]
    },
    {
      "cell_type": "code",
      "source": [
        "# Exercise 2\n",
        "\n",
        "class Phone:\n",
        "  \"\"\"An attempt to model a simple phone.\"\"\"\n",
        "  pass\n",
        "\n",
        "print(type(Phone))\n"
      ],
      "metadata": {
        "colab": {
          "base_uri": "https://localhost:8080/"
        },
        "id": "sTfAuCiH5NTL",
        "outputId": "f26aa448-5a9c-4991-fe19-10ae8a9a1b60"
      },
      "execution_count": 1,
      "outputs": [
        {
          "output_type": "stream",
          "name": "stdout",
          "text": [
            "<class 'type'>\n"
          ]
        }
      ]
    },
    {
      "cell_type": "code",
      "source": [
        "# Exercise 3\n",
        "\n",
        "class Vehicle:\n",
        "  \"\"\"This is a Vehicle class.\"\"\"\n",
        "  pass"
      ],
      "metadata": {
        "id": "96UY6jIN5bUn"
      },
      "execution_count": null,
      "outputs": []
    },
    {
      "cell_type": "code",
      "source": [
        "# Exercise 4\n",
        "\n",
        "class Vehicle:\n",
        "  \"\"\"This is a Vehicle class.\"\"\"\n",
        "  pass\n",
        "\n",
        "print(Vehicle.__name__)"
      ],
      "metadata": {
        "colab": {
          "base_uri": "https://localhost:8080/"
        },
        "id": "pIs56V2Z55_6",
        "outputId": "e66818d2-7c56-44f7-a465-d41cca0574c6"
      },
      "execution_count": 3,
      "outputs": [
        {
          "output_type": "stream",
          "name": "stdout",
          "text": [
            "Vehicle\n"
          ]
        }
      ]
    },
    {
      "cell_type": "code",
      "source": [
        "# Exercise 5\n",
        "\n",
        "class Container:\n",
        "  \"\"\"This is a Container class.\"\"\"\n",
        "\n",
        "print(Container.__dict__.keys())"
      ],
      "metadata": {
        "colab": {
          "base_uri": "https://localhost:8080/"
        },
        "id": "I11XNzBf5-Ks",
        "outputId": "382487fc-1046-4166-c2f0-7bac0a0b71b6"
      },
      "execution_count": 6,
      "outputs": [
        {
          "output_type": "stream",
          "name": "stdout",
          "text": [
            "dict_keys(['__module__', '__doc__', '__dict__', '__weakref__'])\n"
          ]
        }
      ]
    },
    {
      "cell_type": "code",
      "source": [
        "# Exercise 7\n",
        "\n",
        "class Container:\n",
        "  \"\"\"This is a Container class.\"\"\"\n",
        "\n",
        "container = Container()\n",
        "print(type(container))"
      ],
      "metadata": {
        "colab": {
          "base_uri": "https://localhost:8080/"
        },
        "id": "C5sCgckG6KHX",
        "outputId": "586826ad-82fe-40e4-f91e-70a912ed63d4"
      },
      "execution_count": 7,
      "outputs": [
        {
          "output_type": "stream",
          "name": "stdout",
          "text": [
            "<class '__main__.Container'>\n"
          ]
        }
      ]
    },
    {
      "cell_type": "code",
      "source": [
        "# Exercise 8\n",
        "\n",
        "class Container:\n",
        "  \"\"\"This is a Container class.\"\"\"\n",
        "\n",
        "container = Container()\n",
        "print(container.__class__)"
      ],
      "metadata": {
        "colab": {
          "base_uri": "https://localhost:8080/"
        },
        "id": "sGeYxEZg67if",
        "outputId": "78fbdbc0-47cb-48c0-ee48-adf07371d881"
      },
      "execution_count": 8,
      "outputs": [
        {
          "output_type": "stream",
          "name": "stdout",
          "text": [
            "<class '__main__.Container'>\n"
          ]
        }
      ]
    },
    {
      "cell_type": "code",
      "source": [
        "# Exercise 9\n",
        "\n",
        "class Model:\n",
        "  pass\n",
        "\n",
        "model = Model()\n",
        "print(isinstance(model, Model))\n"
      ],
      "metadata": {
        "colab": {
          "base_uri": "https://localhost:8080/"
        },
        "id": "oJa-CEYS7J3J",
        "outputId": "0604891a-e10f-43cc-9724-4c98b2f42a0b"
      },
      "execution_count": 9,
      "outputs": [
        {
          "output_type": "stream",
          "name": "stdout",
          "text": [
            "True\n"
          ]
        }
      ]
    },
    {
      "cell_type": "code",
      "source": [
        "# Exericse 10\n",
        "\n",
        "class Model:\n",
        "  pass\n",
        "\n",
        "class View:\n",
        "  pass\n",
        "\n",
        "model = Model()\n",
        "view = View()\n",
        "\n",
        "print(isinstance(model, Model))\n",
        "print(isinstance(view, Model))"
      ],
      "metadata": {
        "colab": {
          "base_uri": "https://localhost:8080/"
        },
        "id": "Be9ZgVf07d5V",
        "outputId": "66a61f1d-e045-44a0-ba9f-ef60164ad834"
      },
      "execution_count": 12,
      "outputs": [
        {
          "output_type": "stream",
          "name": "stdout",
          "text": [
            "True\n",
            "False\n"
          ]
        }
      ]
    },
    {
      "cell_type": "code",
      "source": [
        "# Exercise 11\n",
        "\n",
        "class Model:\n",
        "    pass\n",
        "\n",
        "class View:\n",
        "    pass\n",
        "\n",
        "object1 = Model()\n",
        "object2 = [Model(), Model()]\n",
        "object3 = {}\n",
        "\n",
        "print(isinstance(object1, (Model, View)))\n",
        "print(isinstance(object2, (Model, View)))\n",
        "print(isinstance(object3, (Model, View)))\n"
      ],
      "metadata": {
        "colab": {
          "base_uri": "https://localhost:8080/"
        },
        "id": "QH7itF-F77ra",
        "outputId": "97a8f2a6-76af-403d-de58-798fb272be7a"
      },
      "execution_count": 14,
      "outputs": [
        {
          "output_type": "stream",
          "name": "stdout",
          "text": [
            "True\n",
            "False\n",
            "False\n"
          ]
        }
      ]
    },
    {
      "cell_type": "code",
      "source": [
        "# Exercise 12\n",
        "\n",
        "class Container:\n",
        "  \"\"\"This is a conteiner.\"\"\"\n",
        "  pass\n",
        "\n",
        "container = Container()\n",
        "\n",
        "print(type(Container.__dict__))\n",
        "print(type(container.__dict__))"
      ],
      "metadata": {
        "colab": {
          "base_uri": "https://localhost:8080/"
        },
        "id": "F4OZWD758OHp",
        "outputId": "d7d1c8d2-3efc-40ed-9872-0fb2e02beff6"
      },
      "execution_count": 15,
      "outputs": [
        {
          "output_type": "stream",
          "name": "stdout",
          "text": [
            "<class 'mappingproxy'>\n",
            "<class 'dict'>\n"
          ]
        }
      ]
    },
    {
      "cell_type": "code",
      "source": [
        "# Exercise 13\n",
        "\n",
        "class Model:\n",
        "    pass\n",
        "\n",
        "class View:\n",
        "    pass\n",
        "\n",
        "print(issubclass(Model, object))\n",
        "print(issubclass(View, object))"
      ],
      "metadata": {
        "colab": {
          "base_uri": "https://localhost:8080/"
        },
        "id": "TJmIhRCG94J7",
        "outputId": "523cc12f-f60f-4cdf-8c36-de4d1481e88c"
      },
      "execution_count": 16,
      "outputs": [
        {
          "output_type": "stream",
          "name": "stdout",
          "text": [
            "True\n",
            "True\n"
          ]
        }
      ]
    },
    {
      "cell_type": "code",
      "source": [
        "# Exercise 14\n",
        "\n",
        "class Phone:\n",
        "  \"\"\"A class to represent a phone.\"\"\"\n",
        "  brand = 'Apple'\n",
        "\n",
        "print(Phone.brand)"
      ],
      "metadata": {
        "colab": {
          "base_uri": "https://localhost:8080/"
        },
        "id": "bgOcuIo1-oOO",
        "outputId": "4732e0cb-3156-4f1b-a302-15a09591e351"
      },
      "execution_count": 19,
      "outputs": [
        {
          "output_type": "stream",
          "name": "stdout",
          "text": [
            "Apple\n"
          ]
        }
      ]
    },
    {
      "cell_type": "code",
      "source": [
        "# Exercise 15\n",
        "\n",
        "class Phone:\n",
        "  brand = 'Apple'\n",
        "  model = 'iPhone X'\n",
        "\n",
        "print(getattr(Phone, 'brand'))\n",
        "print(getattr(Phone, 'model'))"
      ],
      "metadata": {
        "colab": {
          "base_uri": "https://localhost:8080/"
        },
        "id": "6cCqMv4NAWb2",
        "outputId": "1e989092-f6f2-4336-b570-83c223af9bf9"
      },
      "execution_count": 20,
      "outputs": [
        {
          "output_type": "stream",
          "name": "stdout",
          "text": [
            "Apple\n",
            "iPhone X\n"
          ]
        }
      ]
    },
    {
      "cell_type": "code",
      "source": [
        "#"
      ],
      "metadata": {
        "id": "fm7m_iLgBAY8"
      },
      "execution_count": null,
      "outputs": []
    }
  ]
}